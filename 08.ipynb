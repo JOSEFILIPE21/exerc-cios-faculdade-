{
 "cells": [
  {
   "cell_type": "markdown",
   "metadata": {},
   "source": [
    "### QUESTAO 1"
   ]
  },
  {
   "cell_type": "code",
   "execution_count": 39,
   "metadata": {},
   "outputs": [
    {
     "name": "stdout",
     "output_type": "stream",
     "text": [
      "olá mundo!\n"
     ]
    }
   ],
   "source": [
    "def mundo():\n",
    "    return(\"olá mundo!\")\n",
    "result = mundo()\n",
    "print(result)"
   ]
  },
  {
   "cell_type": "markdown",
   "metadata": {},
   "source": [
    "### QUESTAO 2\n"
   ]
  },
  {
   "cell_type": "code",
   "execution_count": 33,
   "metadata": {},
   "outputs": [
    {
     "data": {
      "text/plain": [
       "4"
      ]
     },
     "execution_count": 33,
     "metadata": {},
     "output_type": "execute_result"
    }
   ],
   "source": [
    "def soma(nun1, nun2):\n",
    "    soma = nun1 + nun2\n",
    "    return(soma)\n",
    "soma(2, 2)"
   ]
  },
  {
   "cell_type": "markdown",
   "metadata": {},
   "source": [
    "### QUESTAO 3"
   ]
  },
  {
   "cell_type": "code",
   "execution_count": 1,
   "metadata": {},
   "outputs": [
    {
     "name": "stdout",
     "output_type": "stream",
     "text": [
      " 9 é numero impar\n"
     ]
    }
   ],
   "source": [
    "def par_impar():\n",
    "    nun = int(input(\"digite um numero\"))\n",
    "    if nun %2 == 0:\n",
    "        return (f\" {nun} é numero par\")\n",
    "    else:\n",
    "        return (f\" {nun} é numero impar\")\n",
    "\n",
    "result = par_impar()\n",
    "print(result)\n"
   ]
  },
  {
   "cell_type": "markdown",
   "metadata": {},
   "source": [
    "###  QUESTAO 4"
   ]
  },
  {
   "cell_type": "code",
   "execution_count": null,
   "metadata": {},
   "outputs": [],
   "source": []
  },
  {
   "cell_type": "code",
   "execution_count": 2,
   "metadata": {},
   "outputs": [
    {
     "data": {
      "text/plain": [
       "7.0"
      ]
     },
     "execution_count": 2,
     "metadata": {},
     "output_type": "execute_result"
    }
   ],
   "source": [
    "def calculo():\n",
    "    nun1 = float(input(\"digite o numero\"))\n",
    "    operacao = input(\"digite a opercao desejada\")\n",
    "    nun2 = float(input(\"digite o numero\"))\n",
    "    if operacao == \"+\":\n",
    "        result = nun1 + nun2\n",
    "        return (result)\n",
    "    elif operacao == \"-\":\n",
    "        result = nun1 - nun2\n",
    "        return (result)\n",
    "    elif operacao == \"*\":\n",
    "        result = nun1 * nun2\n",
    "        return (result)\n",
    "    elif operacao == \"/\":\n",
    "        result = nun1 / nun2\n",
    "        return (result)\n",
    "calculo()"
   ]
  },
  {
   "cell_type": "markdown",
   "metadata": {},
   "source": [
    "### QUESTAO 5"
   ]
  },
  {
   "cell_type": "code",
   "execution_count": 51,
   "metadata": {},
   "outputs": [
    {
     "name": "stdout",
     "output_type": "stream",
     "text": [
      "sua media vai ser 5.0\n"
     ]
    }
   ],
   "source": [
    "def media():\n",
    "    nota1 = float(input(\"digite a primeira nota\"))\n",
    "    nota2 = float(input(\"digite a segunda nota\"))\n",
    "    nota3 = float(input(\"digite a terceira nota\"))\n",
    "    media = (nota1 + nota2 + nota3) / 3 \n",
    "    return (f\"sua media vai ser {media:.1f}\")\n",
    "result = media()\n",
    "print (result)"
   ]
  },
  {
   "cell_type": "markdown",
   "metadata": {},
   "source": [
    "###  QUESTAO 6"
   ]
  },
  {
   "cell_type": "code",
   "execution_count": 55,
   "metadata": {},
   "outputs": [
    {
     "name": "stdout",
     "output_type": "stream",
     "text": [
      "o grau em fahrenheit é 77.0\n"
     ]
    }
   ],
   "source": [
    "def grau(celsius):\n",
    "    fahrenheit = (celsius * 9/5 ) +32\n",
    "    return (f\"o grau em fahrenheit é {fahrenheit}\")\n",
    "result = grau(25)\n",
    "print (result)"
   ]
  },
  {
   "cell_type": "markdown",
   "metadata": {},
   "source": [
    "### QUESTAO 7"
   ]
  },
  {
   "cell_type": "code",
   "execution_count": 59,
   "metadata": {},
   "outputs": [
    {
     "name": "stdout",
     "output_type": "stream",
     "text": [
      "24\n"
     ]
    }
   ],
   "source": [
    "import math\n",
    "def fatorial(nun):\n",
    "    return math.factorial(nun)\n",
    "result = fatorial(4)\n",
    "print(result)\n",
    "\n"
   ]
  },
  {
   "cell_type": "markdown",
   "metadata": {},
   "source": [
    "### QUESTAO 8"
   ]
  },
  {
   "cell_type": "code",
   "execution_count": 65,
   "metadata": {},
   "outputs": [
    {
     "name": "stdout",
     "output_type": "stream",
     "text": [
      "1 é impar\n",
      "3 é impar\n",
      "5 é impar\n",
      "7 é impar\n",
      "9 é impar\n",
      "11 é impar\n",
      "13 é impar\n",
      "15 é impar\n",
      "17 é impar\n",
      "19 é impar\n",
      "21 é impar\n",
      "23 é impar\n",
      "25 é impar\n",
      "27 é impar\n",
      "29 é impar\n",
      "31 é impar\n",
      "33 é impar\n",
      "35 é impar\n",
      "37 é impar\n",
      "39 é impar\n",
      "41 é impar\n",
      "43 é impar\n",
      "45 é impar\n",
      "47 é impar\n",
      "49 é impar\n",
      "51 é impar\n",
      "53 é impar\n",
      "55 é impar\n",
      "57 é impar\n",
      "59 é impar\n",
      "61 é impar\n",
      "63 é impar\n",
      "65 é impar\n",
      "67 é impar\n",
      "69 é impar\n",
      "71 é impar\n",
      "73 é impar\n",
      "75 é impar\n",
      "77 é impar\n",
      "79 é impar\n",
      "81 é impar\n",
      "83 é impar\n",
      "85 é impar\n",
      "87 é impar\n",
      "89 é impar\n",
      "91 é impar\n",
      "93 é impar\n",
      "95 é impar\n",
      "97 é impar\n",
      "99 é impar\n",
      "50\n"
     ]
    }
   ],
   "source": [
    "contagem = []\n",
    "def impar():\n",
    "    for i in range(1, 100):\n",
    "        if i %2 != 0:\n",
    "            contagem.append(i)\n",
    "            print(f\"{i} é impar\")\n",
    "impar()\n",
    "conta = len(contagem)\n",
    "print (conta)"
   ]
  },
  {
   "cell_type": "markdown",
   "metadata": {},
   "source": [
    "### QUESTAO 9"
   ]
  },
  {
   "cell_type": "code",
   "execution_count": 69,
   "metadata": {},
   "outputs": [
    {
     "name": "stdout",
     "output_type": "stream",
     "text": [
      "8 nao é primo\n"
     ]
    }
   ],
   "source": [
    "def primo(nun):\n",
    "    if nun <= 1:\n",
    "        return (f\"{nun} nao é primo\")\n",
    "    elif nun == 2 :\n",
    "        return (f\"{nun} é primo\")\n",
    "    else:\n",
    "        for i in range(2 , nun):\n",
    "            if nun  % i == 0:\n",
    "                return (f\"{nun} nao é primo\")\n",
    "            else:\n",
    "                return (f\"{nun} é primo\")\n",
    "result = primo(8)\n",
    "print(result)"
   ]
  },
  {
   "cell_type": "markdown",
   "metadata": {},
   "source": [
    "### QUESTAO 10"
   ]
  },
  {
   "cell_type": "code",
   "execution_count": 1,
   "metadata": {},
   "outputs": [
    {
     "name": "stdout",
     "output_type": "stream",
     "text": [
      "log\n"
     ]
    }
   ],
   "source": [
    "string = input(\"digite uma palavra\")\n",
    "def inverter(string):\n",
    "    return string[:: -1]\n",
    "result = inverter(string)\n",
    "print(result)"
   ]
  },
  {
   "cell_type": "markdown",
   "metadata": {},
   "source": [
    "### QUESTAO 11"
   ]
  },
  {
   "cell_type": "code",
   "execution_count": 72,
   "metadata": {},
   "outputs": [
    {
     "name": "stdout",
     "output_type": "stream",
     "text": [
      "4\n",
      "8\n",
      "12\n",
      "16\n",
      "20\n",
      "24\n",
      "28\n",
      "32\n",
      "36\n",
      "40\n"
     ]
    }
   ],
   "source": [
    "def tabuada(nun):\n",
    "    for i in range(1, 11):\n",
    "        print ( i * nun)\n",
    "tabuada(4)\n"
   ]
  },
  {
   "cell_type": "markdown",
   "metadata": {},
   "source": [
    "### QUESTAO 12"
   ]
  },
  {
   "cell_type": "code",
   "execution_count": 4,
   "metadata": {},
   "outputs": [
    {
     "name": "stdout",
     "output_type": "stream",
     "text": [
      "essa palavra tem 3 vogais\n"
     ]
    }
   ],
   "source": [
    "def contagem_vogais():\n",
    "    texto = input(\"digite uma palavra\")\n",
    "    vogais = \"aAeEiIoOuU\"\n",
    "    contador = 0\n",
    "    for i in (texto):\n",
    "        if i in vogais:\n",
    "            contador+= 1\n",
    "    return f\"essa palavra tem {contador} vogais\"\n",
    "result = contagem_vogais()\n",
    "print (result)"
   ]
  },
  {
   "cell_type": "markdown",
   "metadata": {},
   "source": [
    "### QUESTAO 13"
   ]
  },
  {
   "cell_type": "code",
   "execution_count": 82,
   "metadata": {},
   "outputs": [
    {
     "data": {
      "text/plain": [
       "15"
      ]
     },
     "execution_count": 82,
     "metadata": {},
     "output_type": "execute_result"
    }
   ],
   "source": [
    "def soma(nun1 , nun2):\n",
    "    lista = list(range(nun1,nun2 +1))\n",
    "    return sum(lista)\n",
    "soma(1,5)\n"
   ]
  },
  {
   "cell_type": "markdown",
   "metadata": {},
   "source": [
    "### QUESTAO 14"
   ]
  },
  {
   "cell_type": "code",
   "execution_count": 90,
   "metadata": {},
   "outputs": [
    {
     "data": {
      "text/plain": [
       "454"
      ]
     },
     "execution_count": 90,
     "metadata": {},
     "output_type": "execute_result"
    }
   ],
   "source": [
    "def soma():\n",
    "    numero = 1,2,4,454,67,422,45,354\n",
    "    lista = list(numero)\n",
    "    return max(lista)\n",
    "soma()"
   ]
  },
  {
   "cell_type": "markdown",
   "metadata": {},
   "source": [
    "### QUESTAO 15"
   ]
  },
  {
   "cell_type": "code",
   "execution_count": 91,
   "metadata": {},
   "outputs": [
    {
     "name": "stdout",
     "output_type": "stream",
     "text": [
      "2 é par\n",
      "4 é par\n",
      "6 é par\n",
      "8 é par\n",
      "10 é par\n",
      "12 é par\n",
      "14 é par\n",
      "16 é par\n",
      "18 é par\n",
      "20 é par\n",
      "22 é par\n",
      "24 é par\n",
      "26 é par\n",
      "28 é par\n",
      "30 é par\n",
      "32 é par\n",
      "34 é par\n",
      "36 é par\n",
      "38 é par\n",
      "40 é par\n",
      "42 é par\n",
      "44 é par\n",
      "46 é par\n",
      "48 é par\n",
      "50 é par\n",
      "52 é par\n",
      "54 é par\n",
      "56 é par\n",
      "58 é par\n",
      "60 é par\n",
      "62 é par\n",
      "64 é par\n",
      "66 é par\n",
      "68 é par\n",
      "70 é par\n",
      "72 é par\n",
      "74 é par\n",
      "76 é par\n",
      "78 é par\n",
      "80 é par\n",
      "82 é par\n",
      "84 é par\n",
      "86 é par\n",
      "88 é par\n",
      "90 é par\n",
      "92 é par\n",
      "94 é par\n",
      "96 é par\n",
      "98 é par\n"
     ]
    }
   ],
   "source": [
    "contagem = []\n",
    "def par():\n",
    "    for i in range(1, 100):\n",
    "        if i %2 == 0:\n",
    "            print(f\"{i} é par\")\n",
    "par()\n"
   ]
  },
  {
   "cell_type": "markdown",
   "metadata": {},
   "source": [
    "### QUESTAO 16"
   ]
  },
  {
   "cell_type": "code",
   "execution_count": 5,
   "metadata": {},
   "outputs": [
    {
     "name": "stdout",
     "output_type": "stream",
     "text": [
      "10\n",
      "9\n",
      "8\n",
      "7\n",
      "6\n",
      "5\n",
      "4\n",
      "3\n",
      "2\n",
      "1\n"
     ]
    }
   ],
   "source": [
    "import time\n",
    "def contage():\n",
    "\n",
    "    for i in range(10,0,-1):\n",
    "        print (i)\n",
    "        time.sleep(1)\n",
    "contage()"
   ]
  },
  {
   "cell_type": "markdown",
   "metadata": {},
   "source": [
    "### QUESTAO 17\n"
   ]
  },
  {
   "cell_type": "code",
   "execution_count": 111,
   "metadata": {},
   "outputs": [
    {
     "name": "stdout",
     "output_type": "stream",
     "text": [
      "Os primeiros 10 números da sequência de Fibonacci são: [0, 1, 1, 2, 3, 5, 8, 13, 21, 34]\n"
     ]
    }
   ],
   "source": [
    "def fibonacci(n):\n",
    "    sequencia = [0, 1]  \n",
    "    while len(sequencia) < n:\n",
    "        sequencia.append(sequencia[-1] + sequencia[-2])\n",
    "    return sequencia\n",
    "primeiros_10 = fibonacci(10)\n",
    "print(\"Os primeiros 10 números da sequência de Fibonacci são:\", primeiros_10)"
   ]
  },
  {
   "cell_type": "markdown",
   "metadata": {},
   "source": [
    "### QUESTAO 18"
   ]
  },
  {
   "cell_type": "code",
   "execution_count": 110,
   "metadata": {},
   "outputs": [
    {
     "name": "stdout",
     "output_type": "stream",
     "text": [
      "coroa\n"
     ]
    }
   ],
   "source": [
    "import random\n",
    "moeda = [\"cara\",\"coroa\"]\n",
    "def sorte():\n",
    "    return random.choice(moeda)\n",
    "result = sorte()\n",
    "print(result)"
   ]
  },
  {
   "cell_type": "markdown",
   "metadata": {},
   "source": [
    "###  QUESTAO 19"
   ]
  },
  {
   "cell_type": "code",
   "execution_count": 116,
   "metadata": {},
   "outputs": [
    {
     "name": "stdout",
     "output_type": "stream",
     "text": [
      "ruim nao é um palindromo\n"
     ]
    }
   ],
   "source": [
    "\n",
    "\n",
    "def palindromo():\n",
    "        nome = input(\"digite a palavra\")\n",
    "        if nome == nome[::-1]:\n",
    "            return f\"{nome} é um palindromo\"\n",
    "        else:\n",
    "            return f\"{nome} nao é um palindromo\"\n",
    "result = palindromo()\n",
    "print(result)"
   ]
  },
  {
   "cell_type": "markdown",
   "metadata": {},
   "source": [
    "### QUESTAO 20"
   ]
  },
  {
   "cell_type": "code",
   "execution_count": 120,
   "metadata": {},
   "outputs": [
    {
     "name": "stdout",
     "output_type": "stream",
     "text": [
      "escolha um numero maior\n",
      "escolha um numero menor\n",
      "escolha um numero menor\n",
      "O numero é 35 voce acertou!!!\n"
     ]
    }
   ],
   "source": [
    "import random\n",
    "escolha = random.randint(1,100)\n",
    "num = int(input(\"digite um numero\"))\n",
    "\n",
    "while True:\n",
    "    if num == escolha:\n",
    "        print (f\"O numero é {escolha} voce acertou!!!\")\n",
    "        break\n",
    "    elif num < escolha:\n",
    "        print (\"escolha um numero maior\")\n",
    "        num = int(input(\"digite um numero\"))\n",
    "    elif num > escolha:\n",
    "        print(\"escolha um numero menor\")\n",
    "        num = int(input(\"digite um numero\"))"
   ]
  }
 ],
 "metadata": {
  "kernelspec": {
   "display_name": "Python 3",
   "language": "python",
   "name": "python3"
  },
  "language_info": {
   "codemirror_mode": {
    "name": "ipython",
    "version": 3
   },
   "file_extension": ".py",
   "mimetype": "text/x-python",
   "name": "python",
   "nbconvert_exporter": "python",
   "pygments_lexer": "ipython3",
   "version": "3.11.9"
  }
 },
 "nbformat": 4,
 "nbformat_minor": 2
}
